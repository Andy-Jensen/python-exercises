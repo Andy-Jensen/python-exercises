{
 "cells": [
  {
   "cell_type": "code",
   "execution_count": 10,
   "id": "5bc8d1da",
   "metadata": {},
   "outputs": [],
   "source": [
    "#Define a function named is_two. It should accept one input and return True \n",
    "#if the passed input is either the number or the string 2, False otherwise.\n",
    "def is_two(x):\n",
    "    if x == 2 or x == '2':\n",
    "        return True\n",
    "    else:\n",
    "        return False"
   ]
  },
  {
   "cell_type": "code",
   "execution_count": 16,
   "id": "3f6faa16",
   "metadata": {},
   "outputs": [],
   "source": [
    "#Define a function named is_vowel. \n",
    "#It should return True if the passed string is a vowel, False otherwise.\n",
    "def is_vowel(z):\n",
    "    if z in ['a', 'e', 'i', 'o', 'u']:\n",
    "        return True\n",
    "    else:\n",
    "        return False"
   ]
  },
  {
   "cell_type": "code",
   "execution_count": 19,
   "id": "b5735260",
   "metadata": {},
   "outputs": [],
   "source": [
    "#Define a function named is_consonant. It should return True if the \n",
    "#passed string is a consonant, False otherwise. \n",
    "#Use your is_vowel function to accomplish this.\n",
    "def is_consonant(z):\n",
    "    if z not in ['a', 'e', 'i', 'o', 'u']:\n",
    "        return True\n",
    "    else:\n",
    "        return False"
   ]
  },
  {
   "cell_type": "code",
   "execution_count": 37,
   "id": "3dc47942",
   "metadata": {},
   "outputs": [],
   "source": [
    "#Define a function that accepts a string that is a word. \n",
    "#The function should capitalize the first letter of the word if the word starts with a consonant.\n",
    "def is_word(z):\n",
    "    if type(z) == type('string') and len(z) > 1:\n",
    "        return z.title()\n",
    "    else:\n",
    "        return 'Not a word'\n"
   ]
  },
  {
   "cell_type": "code",
   "execution_count": 40,
   "id": "9f5c088e",
   "metadata": {},
   "outputs": [
    {
     "data": {
      "text/plain": [
       "'Zebra'"
      ]
     },
     "execution_count": 40,
     "metadata": {},
     "output_type": "execute_result"
    }
   ],
   "source": [
    "#Define a function named calculate_tip. It should accept a tip percentage \n",
    "#(a number between 0 and 1) and the bill total, and return the amount to tip.\n",
    "def calculate_tip(tip, bill):\n",
    "    "
   ]
  },
  {
   "cell_type": "code",
   "execution_count": 26,
   "id": "070edd15",
   "metadata": {},
   "outputs": [
    {
     "data": {
      "text/plain": [
       "str"
      ]
     },
     "execution_count": 26,
     "metadata": {},
     "output_type": "execute_result"
    }
   ],
   "source": [
    "type('string')"
   ]
  },
  {
   "cell_type": "code",
   "execution_count": null,
   "id": "f1ae1804",
   "metadata": {},
   "outputs": [],
   "source": []
  }
 ],
 "metadata": {
  "kernelspec": {
   "display_name": "Python 3 (ipykernel)",
   "language": "python",
   "name": "python3"
  },
  "language_info": {
   "codemirror_mode": {
    "name": "ipython",
    "version": 3
   },
   "file_extension": ".py",
   "mimetype": "text/x-python",
   "name": "python",
   "nbconvert_exporter": "python",
   "pygments_lexer": "ipython3",
   "version": "3.9.13"
  }
 },
 "nbformat": 4,
 "nbformat_minor": 5
}
