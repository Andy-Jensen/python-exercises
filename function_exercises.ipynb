{
 "cells": [
  {
   "cell_type": "code",
   "execution_count": 1,
   "id": "5bc8d1da",
   "metadata": {},
   "outputs": [
    {
     "data": {
      "text/plain": [
       "False"
      ]
     },
     "execution_count": 1,
     "metadata": {},
     "output_type": "execute_result"
    }
   ],
   "source": [
    "#Define a function named is_two. It should accept one input and return True \n",
    "#if the passed input is either the number or the string 2, False otherwise.\n",
    "def is_two(x):\n",
    "    if x == 2 or x == '2':\n",
    "        return True\n",
    "    else:\n",
    "        return False\n",
    "is_two(23)"
   ]
  },
  {
   "cell_type": "code",
   "execution_count": 2,
   "id": "3f6faa16",
   "metadata": {},
   "outputs": [
    {
     "data": {
      "text/plain": [
       "True"
      ]
     },
     "execution_count": 2,
     "metadata": {},
     "output_type": "execute_result"
    }
   ],
   "source": [
    "#Define a function named is_vowel. \n",
    "#It should return True if the passed string is a vowel, False otherwise.\n",
    "def is_vowel(z):\n",
    "    if z in ['a', 'e', 'i', 'o', 'u']:\n",
    "        return True\n",
    "    else:\n",
    "        return False\n",
    "is_vowel('a')\n",
    "#is_vowel('z')"
   ]
  },
  {
   "cell_type": "code",
   "execution_count": 3,
   "id": "b5735260",
   "metadata": {},
   "outputs": [
    {
     "data": {
      "text/plain": [
       "True"
      ]
     },
     "execution_count": 3,
     "metadata": {},
     "output_type": "execute_result"
    }
   ],
   "source": [
    "#Define a function named is_consonant. It should return True if the \n",
    "#passed string is a consonant, False otherwise. \n",
    "#Use your is_vowel function to accomplish this.\n",
    "def is_consonant(z):\n",
    "    if z not in ['a', 'e', 'i', 'o', 'u']:\n",
    "        return True\n",
    "    else:\n",
    "        return False\n",
    "#is_consonant('a')\n",
    "is_consonant('z')"
   ]
  },
  {
   "cell_type": "code",
   "execution_count": 4,
   "id": "3dc47942",
   "metadata": {},
   "outputs": [
    {
     "data": {
      "text/plain": [
       "'Zebra'"
      ]
     },
     "execution_count": 4,
     "metadata": {},
     "output_type": "execute_result"
    }
   ],
   "source": [
    "#Define a function that accepts a string that is a word. \n",
    "#The function should capitalize the first letter of the word if the word starts with a consonant.\n",
    "def is_word(z):\n",
    "    if type(z) == type('string') and len(z) > 1:\n",
    "        return z.title()\n",
    "    else:\n",
    "        return 'Not a word'\n",
    "is_word('Zebra')"
   ]
  },
  {
   "cell_type": "code",
   "execution_count": 5,
   "id": "9f5c088e",
   "metadata": {},
   "outputs": [
    {
     "data": {
      "text/plain": [
       "12.0"
      ]
     },
     "execution_count": 5,
     "metadata": {},
     "output_type": "execute_result"
    }
   ],
   "source": [
    "#Define a function named calculate_tip. It should accept a tip percentage \n",
    "#(a number between 0 and 1) and the bill total, and return the amount to tip.\n",
    "def calculate_tip(tip, bill):\n",
    "    #tip = (int(input('Tip Percent: '))) / 100\n",
    "    #bill = int(input('Total Bill: '))\n",
    "    return (bill * tip) + bill\n",
    "\n",
    "calculate_tip(.20, 10)"
   ]
  },
  {
   "cell_type": "code",
   "execution_count": 8,
   "id": "7e3a9596",
   "metadata": {},
   "outputs": [
    {
     "name": "stdout",
     "output_type": "stream",
     "text": [
      "Tip Percent: 100\n",
      "Total Bill: 100\n"
     ]
    },
    {
     "data": {
      "text/plain": [
       "200.0"
      ]
     },
     "execution_count": 8,
     "metadata": {},
     "output_type": "execute_result"
    }
   ],
   "source": [
    "def calculate_tip():\n",
    "    tip = (int(input('Tip Percent: '))) / 100\n",
    "    bill = int(input('Total Bill: '))\n",
    "    return (bill * tip) + bill\n",
    "calculate_tip()\n"
   ]
  },
  {
   "cell_type": "code",
   "execution_count": 9,
   "id": "10db31d1",
   "metadata": {},
   "outputs": [
    {
     "name": "stdout",
     "output_type": "stream",
     "text": [
      "Tip Percent: 100\n",
      "Total Bill: 100\n"
     ]
    },
    {
     "ename": "NameError",
     "evalue": "name 'bill' is not defined",
     "output_type": "error",
     "traceback": [
      "\u001b[0;31m---------------------------------------------------------------------------\u001b[0m",
      "\u001b[0;31mNameError\u001b[0m                                 Traceback (most recent call last)",
      "Input \u001b[0;32mIn [9]\u001b[0m, in \u001b[0;36m<cell line: 5>\u001b[0;34m()\u001b[0m\n\u001b[1;32m      3\u001b[0m     \u001b[38;5;28mint\u001b[39m(\u001b[38;5;28minput\u001b[39m(\u001b[38;5;124m'\u001b[39m\u001b[38;5;124mTotal Bill: \u001b[39m\u001b[38;5;124m'\u001b[39m))\n\u001b[1;32m      4\u001b[0m     \u001b[38;5;28;01mreturn\u001b[39;00m (bill \u001b[38;5;241m*\u001b[39m tip) \u001b[38;5;241m+\u001b[39m bill\n\u001b[0;32m----> 5\u001b[0m \u001b[43mcalculate_tip\u001b[49m\u001b[43m(\u001b[49m\u001b[43m)\u001b[49m\n",
      "Input \u001b[0;32mIn [9]\u001b[0m, in \u001b[0;36mcalculate_tip\u001b[0;34m()\u001b[0m\n\u001b[1;32m      2\u001b[0m (\u001b[38;5;28mint\u001b[39m(\u001b[38;5;28minput\u001b[39m(\u001b[38;5;124m'\u001b[39m\u001b[38;5;124mTip Percent: \u001b[39m\u001b[38;5;124m'\u001b[39m))) \u001b[38;5;241m/\u001b[39m \u001b[38;5;241m100\u001b[39m\n\u001b[1;32m      3\u001b[0m \u001b[38;5;28mint\u001b[39m(\u001b[38;5;28minput\u001b[39m(\u001b[38;5;124m'\u001b[39m\u001b[38;5;124mTotal Bill: \u001b[39m\u001b[38;5;124m'\u001b[39m))\n\u001b[0;32m----> 4\u001b[0m \u001b[38;5;28;01mreturn\u001b[39;00m (\u001b[43mbill\u001b[49m \u001b[38;5;241m*\u001b[39m tip) \u001b[38;5;241m+\u001b[39m bill\n",
      "\u001b[0;31mNameError\u001b[0m: name 'bill' is not defined"
     ]
    }
   ],
   "source": [
    "def calculate_tip():\n",
    "    (int(input('Tip Percent: '))) / 100\n",
    "    int(input('Total Bill: '))\n",
    "    return (bill * tip) + bill\n",
    "calculate_tip()\n"
   ]
  },
  {
   "cell_type": "code",
   "execution_count": null,
   "id": "f906e821",
   "metadata": {},
   "outputs": [],
   "source": []
  }
 ],
 "metadata": {
  "kernelspec": {
   "display_name": "Python 3 (ipykernel)",
   "language": "python",
   "name": "python3"
  },
  "language_info": {
   "codemirror_mode": {
    "name": "ipython",
    "version": 3
   },
   "file_extension": ".py",
   "mimetype": "text/x-python",
   "name": "python",
   "nbconvert_exporter": "python",
   "pygments_lexer": "ipython3",
   "version": "3.9.13"
  }
 },
 "nbformat": 4,
 "nbformat_minor": 5
}
