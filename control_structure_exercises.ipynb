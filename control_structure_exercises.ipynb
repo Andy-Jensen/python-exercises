{
 "cells": [
  {
   "cell_type": "code",
   "execution_count": null,
   "id": "ac7775b1",
   "metadata": {},
   "outputs": [],
   "source": [
    "#Conditional Basics\n",
    "\n",
    "#prompt the user for a day of the week, print out whether the day is Monday or not\n",
    "\n",
    "day_of_the_week = 'Monday'\n",
    "\n",
    "if day_of_the_week == 'Monday':\n",
    "    print('It\\'s Monday. Go back to bed!')\n",
    "else:\n",
    "    print('Wake up! It\\'s not Monday')\n",
    "\n",
    "#prompt the user for a day of the week, print out whether the day is a weekday or a weekend\n",
    "day_of_the_week = input('Today is ')\n",
    "weekday = ['Monday', 'Tuesday', 'Wednesday', 'Thursday', 'Friday']\n",
    "weekend = ['Saturday', 'Sunday']\n",
    "\n",
    "if day_of_the_week in weekday:\n",
    "    print('Weekday')\n",
    "else:\n",
    "    print('Weekend')\n",
    "\n",
    "#create variables and make up values for\n",
    "\n",
    "#the number of hours worked in one week\n",
    "hours_worked = 41\n",
    "\n",
    "#the hourly rate\n",
    "hourly_rate = 1000\n",
    "\n",
    "#how much the week's paycheck will be\n",
    "hours_worked * hourly_rate\n",
    "\n",
    "#write the python code that calculates the weekly paycheck. \n",
    "#You get paid time and a half if you work more than 40 hours.\n",
    "if hours_worked >= 1 and hours_worked <=40:\n",
    "    print(hours_worked * hourly_rate)\n",
    "elif hours_worked > 40:\n",
    "    print((hours_worked * hourly_rate) + ((hourly_rate / 2) * (hours_worked - 40)))"
   ]
  },
  {
   "cell_type": "code",
   "execution_count": 126,
   "id": "de3fbb4a",
   "metadata": {},
   "outputs": [
    {
     "name": "stdout",
     "output_type": "stream",
     "text": [
      "5\n",
      "6\n",
      "7\n",
      "8\n",
      "9\n",
      "10\n",
      "11\n",
      "12\n",
      "13\n",
      "14\n",
      "15\n"
     ]
    }
   ],
   "source": [
    "#Create an integer variable i with a value of 5.\n",
    "i = 5\n",
    "#Create a while loop that runs so long as i is less than or equal to 15\n",
    "#Each loop iteration, output the current value of i, then increment i by one.\n",
    "i = 5\n",
    "while i <= 15:\n",
    "    print(i)\n",
    "    i += 1\n"
   ]
  },
  {
   "cell_type": "code",
   "execution_count": null,
   "id": "b87d31e6",
   "metadata": {},
   "outputs": [],
   "source": [
    "#Create a while loop that will count by 2's starting with 0 and ending at 100. \n",
    "#Follow each number with a new line.\n",
    "i = 0\n",
    "while i <= 100:\n",
    "    print(i)\n",
    "    i += 2\n",
    "    \n",
    "#Alter your loop to count backwards by 5's from 100 to -10.\n",
    "i = 100\n",
    "while i >= -10:\n",
    "    print(i)\n",
    "    i -= 5 "
   ]
  },
  {
   "cell_type": "code",
   "execution_count": null,
   "id": "af777cbf",
   "metadata": {},
   "outputs": [],
   "source": [
    "#Create a while loop that starts at 2, and displays the number \n",
    "#squared on each line while the number is less than 1,000,000.\n",
    "i = 2\n",
    "while i < 1_000_000:\n",
    "    print(i)\n",
    "    i = i ** 2"
   ]
  },
  {
   "cell_type": "code",
   "execution_count": null,
   "id": "509a04ab",
   "metadata": {},
   "outputs": [],
   "source": [
    "#Write a loop that uses print to create the output shown below. (100 counting backwards to 5 by 5s)\n",
    "i = 100\n",
    "while i >= 5:\n",
    "    print(i)\n",
    "    i -= 5 "
   ]
  },
  {
   "cell_type": "code",
   "execution_count": 129,
   "id": "eae8e03f",
   "metadata": {},
   "outputs": [
    {
     "name": "stdout",
     "output_type": "stream",
     "text": [
      "Feed me a number->5\n",
      "5 x 1 = 5\n",
      "5 x 2 = 10\n",
      "5 x 3 = 15\n",
      "5 x 4 = 20\n",
      "5 x 5 = 25\n",
      "5 x 6 = 30\n",
      "5 x 7 = 35\n",
      "5 x 8 = 40\n",
      "5 x 9 = 45\n",
      "5 x 10 = 50\n",
      "5 x 1 = 5\n",
      "5 x 2 = 10\n",
      "5 x 3 = 15\n",
      "5 x 4 = 20\n",
      "5 x 5 = 25\n",
      "5 x 6 = 30\n",
      "5 x 7 = 35\n",
      "5 x 8 = 40\n",
      "5 x 9 = 45\n",
      "5 x 10 = 50\n"
     ]
    }
   ],
   "source": [
    "#Write some code that prompts the user for a number, \n",
    "#then shows a multiplication table up through 10 for that number.\n",
    "your_num = int(input('Feed me a number->'))\n",
    "for i in range(1, 11):\n",
    "    print(f'{your_num} x {i} = {your_num * i}')\n",
    "    \n",
    "\n",
    "num = 5\n",
    "\n",
    "print(f'{num} x 1 =', (num * 1))\n",
    "print(f'{num} x 2 =', (num * 2))\n",
    "print(f'{num} x 3 =', (num * 3))\n",
    "print(f'{num} x 4 =', (num * 4))\n",
    "print(f'{num} x 5 =', (num * 5))\n",
    "print(f'{num} x 6 =', (num * 6))\n",
    "print(f'{num} x 7 =', (num * 7))\n",
    "print(f'{num} x 8 =', (num * 8))\n",
    "print(f'{num} x 9 =', (num * 9))\n",
    "print(f'{num} x 10 =', (num * 10))"
   ]
  },
  {
   "cell_type": "code",
   "execution_count": 130,
   "id": "199b0cf9",
   "metadata": {},
   "outputs": [
    {
     "name": "stdout",
     "output_type": "stream",
     "text": [
      "1\n",
      "22\n",
      "333\n",
      "4444\n",
      "55555\n",
      "666666\n",
      "7777777\n",
      "88888888\n",
      "999999999\n"
     ]
    }
   ],
   "source": [
    "#Create a for loop that uses print to create the output shown below.\n",
    "#1\n",
    "#22\n",
    "#333\n",
    "#4444\n",
    "#55555\n",
    "#666666\n",
    "#7777777\n",
    "#88888888\n",
    "#999999999\n",
    "\n",
    "pyramid = [1, 2, 3, 4, 5, 6, 7, 8, 9]\n",
    "for n in pyramid:\n",
    "    print(f'{n}' * n)"
   ]
  },
  {
   "cell_type": "code",
   "execution_count": null,
   "id": "04a1e855",
   "metadata": {},
   "outputs": [],
   "source": [
    "#Write a program that prompts the user for a positive integer. \n",
    "#Next write a loop that prints out the numbers from the number the user entered down to 1.\n",
    "pos_int = 11\n",
    "while pos_int > 0:\n",
    "    print(pos_int)\n",
    "    pos_int -= 1"
   ]
  },
  {
   "cell_type": "code",
   "execution_count": 41,
   "id": "c9767c4c",
   "metadata": {},
   "outputs": [
    {
     "name": "stdout",
     "output_type": "stream",
     "text": [
      "Your lucky number is 7\n",
      "0\n",
      "1\n",
      "2\n",
      "3\n",
      "4\n",
      "5\n",
      "6\n",
      "7\n"
     ]
    }
   ],
   "source": [
    "#The input function can be used to prompt for input and use that input in your python code. \n",
    "#Prompt the user to enter a positive number and write a loop that counts from 0 to that number. \n",
    "#(Hints: first make sure that the value the user entered is a valid number, \n",
    "#also note that the input function returns a string, so you'll need to convert this to a numeric type.)\n",
    "\n",
    "lucky_num = int(input('Your lucky number is '))\n",
    "\n",
    "for beans in range((lucky_num) + 1):\n",
    "    if beans > lucky_num:\n",
    "        break\n",
    "    print(beans)\n",
    "        \n",
    "    "
   ]
  },
  {
   "cell_type": "code",
   "execution_count": 132,
   "id": "90e4a6b2",
   "metadata": {},
   "outputs": [
    {
     "name": "stdout",
     "output_type": "stream",
     "text": [
      "imput odd number--> 5\n",
      "1\n",
      "3\n",
      "7\n",
      "9\n",
      "11\n",
      "13\n",
      "15\n",
      "17\n",
      "19\n",
      "21\n",
      "23\n",
      "25\n",
      "27\n",
      "29\n",
      "31\n",
      "33\n",
      "35\n",
      "37\n",
      "39\n",
      "41\n",
      "43\n",
      "45\n",
      "47\n",
      "49\n"
     ]
    }
   ],
   "source": [
    "#Prompt the user for an odd number between 1 and 50. \n",
    "#Use a loop and a break statement to continue prompting the user if they enter an invalid input. \n",
    "#(Hint: use the isdigit method on strings to determine this). \n",
    "#Use a loop and the continue statement to output all the odd numbers between 1 and 50, \n",
    "#except for the number the user entered.\n",
    "while True:\n",
    "    your_num = input('imput odd number--> ')\n",
    "    if your_num.isdigit() and int(your_num) % 2 == 1:\n",
    "        break\n",
    "    else:\n",
    "        print('invalid input. Try again')\n",
    "counter = 1\n",
    "while counter < 50:\n",
    "    if counter == int(your_num):\n",
    "        counter += 2\n",
    "        continue\n",
    "    else:\n",
    "        print(counter)\n",
    "        counter += 2\n",
    "\n",
    "#users_number = input('odd number here -> ')\n",
    "#users_real_number = int(users_number)\n",
    "\n",
    "#while users_real_number:\n",
    "#    if users_number.isdigit() and users_real_number % 2 != 0 and users_real_number < 50:\n",
    "#        print('good job')\n",
    "#        break\n",
    "#    else:\n",
    "#        print('try again')\n",
    "#        break\n",
    "    \n"
   ]
  },
  {
   "cell_type": "code",
   "execution_count": null,
   "id": "d7b86207",
   "metadata": {},
   "outputs": [],
   "source": [
    "#One of the most common interview questions for entry-level programmers is the \n",
    "#FizzBuzz test. Developed by Imran Ghory, the test is designed to test basic looping and \n",
    "#conditional logic skills.\n",
    "\n",
    "#Write a program that prints the numbers from 1 to 100.\n",
    "for i in range(101):\n",
    "    if i >= 1:\n",
    "        print(i)"
   ]
  },
  {
   "cell_type": "code",
   "execution_count": null,
   "id": "a752559c",
   "metadata": {},
   "outputs": [],
   "source": [
    "#For multiples of three print \"Fizz\" instead of the number\n",
    "for i in range(101):\n",
    "    if i >= 1 and i % 3 == 0:\n",
    "        print('Fizz')\n",
    "    elif i >= 1:\n",
    "        print(i)"
   ]
  },
  {
   "cell_type": "code",
   "execution_count": null,
   "id": "1c67f097",
   "metadata": {},
   "outputs": [],
   "source": [
    "#For the multiples of five print \"Buzz\".\n",
    "for i in range(101):\n",
    "    if i >= 1 and i % 3 == 0:\n",
    "        print('Fizz')\n",
    "    elif i >= 1 and i % 5 == 0:\n",
    "        print('Buzz')\n",
    "    elif i >= 1:\n",
    "        print(i)"
   ]
  },
  {
   "cell_type": "code",
   "execution_count": null,
   "id": "bbb3b19d",
   "metadata": {},
   "outputs": [],
   "source": [
    "#For numbers which are multiples of both three and five print \"FizzBuzz\".\n",
    "for i in range(101):\n",
    "    if i >= 1 and i % 3 == 0 and i % 5 == 0:\n",
    "        print('FizzBuzz')\n",
    "    elif i >= 1 and i % 3 == 0:\n",
    "        print('Fizz')\n",
    "    elif i >= 1 and i % 5 == 0:\n",
    "        print('Buzz')\n",
    "    elif i >= 1:\n",
    "        print(i)"
   ]
  },
  {
   "cell_type": "code",
   "execution_count": 123,
   "id": "b007ccac",
   "metadata": {},
   "outputs": [
    {
     "name": "stdout",
     "output_type": "stream",
     "text": [
      "numbers    squares    cubes\n",
      "---------  ---------  -------\n"
     ]
    }
   ],
   "source": [
    "from tabulate import tabulate\n",
    "#Display a table of powers.\n",
    "table = [['numbers', 'squares', 'cubes']]\n",
    "print(tabulate(table, headers = 'firstrow'))\n"
   ]
  },
  {
   "cell_type": "code",
   "execution_count": 124,
   "id": "da9778a8",
   "metadata": {},
   "outputs": [
    {
     "name": "stdout",
     "output_type": "stream",
     "text": [
      "Put an integer here -> 3\n",
      "numbers    squares    cubes\n",
      "---------  ---------  -------\n"
     ]
    }
   ],
   "source": [
    "#Prompt the user to enter an integer.\n",
    "user_input = int(input('Put an integer here -> '))\n",
    "table = [['numbers', 'squares', 'cubes']]\n",
    "print(tabulate(table, headers = 'firstrow'))\n"
   ]
  },
  {
   "cell_type": "code",
   "execution_count": 175,
   "id": "84e0c39e",
   "metadata": {},
   "outputs": [
    {
     "name": "stdout",
     "output_type": "stream",
     "text": [
      "Put an integer here -> 5\n",
      "  numbers    squares    cubes\n",
      "---------  ---------  -------\n",
      "        5         25      125\n"
     ]
    }
   ],
   "source": [
    "#Display a table of squares and cubes from 1 to the value entered.\n",
    "\n",
    "count = 1\n",
    "while count <= user_input:\n",
    "    count += 1\n",
    "squr = pow(count, 2)\n",
    "cubd = pow(count, 3)\n",
    "\n",
    "user_input = int(input('Put an integer here -> '))\n",
    "table = [['numbers', 'squares', 'cubes'], [str(count), squr, cubd]]\n",
    "print(tabulate(table, headers = 'firstrow'))\n",
    "\n"
   ]
  },
  {
   "cell_type": "code",
   "execution_count": 172,
   "id": "0aff0354",
   "metadata": {},
   "outputs": [],
   "source": [
    "#Ask if the user wants to continue.\n",
    "\n",
    "#Assume that the user will enter valid data.\n",
    "\n",
    "#Only continue if the user agrees to.\n"
   ]
  },
  {
   "cell_type": "code",
   "execution_count": null,
   "id": "d79ffcf0",
   "metadata": {},
   "outputs": [],
   "source": [
    "#Convert given number grades into letter grades.\n",
    "\n",
    "#Prompt the user for a numerical grade from 0 to 100.\n",
    "#Display the corresponding letter grade.\n",
    "#Prompt the user to continue.\n",
    "#Assume that the user will enter valid integers for the grades.\n",
    "#The application should only continue if the user agrees to.\n",
    "#Grade Ranges:\n",
    "\n",
    "#A : 100 - 88\n",
    "#B : 87 - 80\n",
    "#C : 79 - 67\n",
    "#D : 66 - 60\n",
    "#F : 59 - 0\n",
    "\n",
    "while True:\n",
    "    your_num = int(input('input your number here '))\n",
    "    if your_num >= 88:\n",
    "        print('A')\n",
    "    elif your_num >= 80:\n",
    "        print('B')\n",
    "    elif your_num >= 67:\n",
    "        print('C')\n",
    "    elif your_num >= 60:\n",
    "        print('D')\n",
    "    else:\n",
    "        print('F')\n",
    "    your_input = input('Do you want to continue? Y/N')\n",
    "    if your_input.lower().strip() == 'n':\n",
    "        break\n"
   ]
  },
  {
   "cell_type": "code",
   "execution_count": 174,
   "id": "ea7b390d",
   "metadata": {},
   "outputs": [
    {
     "name": "stdout",
     "output_type": "stream",
     "text": [
      "Title: The Lies of Locke Lamora\n",
      "Author: Scott Lynch\n",
      "Genre: Fantasy\n",
      "\n",
      "Title: Red Seas Under Red Skies\n",
      "Author: Scott Lynch\n",
      "Genre: Fantasy\n",
      "\n",
      "Title: The Republic of Thieves\n",
      "Author: Scott Lynch\n",
      "Genre: Fantasy\n",
      "\n"
     ]
    }
   ],
   "source": [
    "#Create a list of dictionaries where each dictionary represents a book that you have read. \n",
    "#Each dictionary in the list should have the keys title, author, and genre. \n",
    "#Loop through the list and print out information about each book.\n",
    "books_read = [{'title': 'The Lies of Locke Lamora', 'author': 'Scott Lynch', 'genre': 'Fantasy'},\n",
    "             {'title': 'Red Seas Under Red Skies', 'author': 'Scott Lynch', 'genre': 'Fantasy'},\n",
    "             {'title': 'The Republic of Thieves', 'author': 'Scott Lynch', 'genre': 'Fantasy'}]\n",
    "for book in books_read:\n",
    "    print('Title: {}'.format(book['title']))\n",
    "    print('Author: {}'.format(book['author']))\n",
    "    print('Genre: {}'.format(book['genre']))\n",
    "    print()\n"
   ]
  },
  {
   "cell_type": "code",
   "execution_count": 176,
   "id": "3ac5fc68",
   "metadata": {},
   "outputs": [
    {
     "name": "stdout",
     "output_type": "stream",
     "text": [
      "╒══════════════════════════╤═════════════╤═════════╕\n",
      "│ title                    │ author      │ genre   │\n",
      "╞══════════════════════════╪═════════════╪═════════╡\n",
      "│ The Lies of Locke Lamora │ Scott Lynch │ Fantasy │\n",
      "├──────────────────────────┼─────────────┼─────────┤\n",
      "│ Red Seas Under Red Skies │ Scott Lynch │ Fantasy │\n",
      "├──────────────────────────┼─────────────┼─────────┤\n",
      "│ The Republic of Thieves  │ Scott Lynch │ Fantasy │\n",
      "╘══════════════════════════╧═════════════╧═════════╛\n"
     ]
    }
   ],
   "source": [
    "books_read = [{'title': 'The Lies of Locke Lamora', 'author': 'Scott Lynch', 'genre': 'Fantasy'},\n",
    "             {'title': 'Red Seas Under Red Skies', 'author': 'Scott Lynch', 'genre': 'Fantasy'},\n",
    "             {'title': 'The Republic of Thieves', 'author': 'Scott Lynch', 'genre': 'Fantasy'}]\n",
    "\n",
    "print(tabulate(books_read, headers = 'keys', tablefmt = 'fancy_grid'))"
   ]
  },
  {
   "cell_type": "code",
   "execution_count": null,
   "id": "c78a8073",
   "metadata": {},
   "outputs": [],
   "source": [
    "#Prompt the user to enter a genre, then loop through your books list and print \n",
    "#out the titles of all the books in that genre.\n",
    "\n"
   ]
  }
 ],
 "metadata": {
  "kernelspec": {
   "display_name": "Python 3 (ipykernel)",
   "language": "python",
   "name": "python3"
  },
  "language_info": {
   "codemirror_mode": {
    "name": "ipython",
    "version": 3
   },
   "file_extension": ".py",
   "mimetype": "text/x-python",
   "name": "python",
   "nbconvert_exporter": "python",
   "pygments_lexer": "ipython3",
   "version": "3.9.13"
  }
 },
 "nbformat": 4,
 "nbformat_minor": 5
}
