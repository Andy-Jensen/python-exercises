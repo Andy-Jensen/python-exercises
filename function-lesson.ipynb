{
 "cells": [
  {
   "cell_type": "code",
   "execution_count": 1,
   "id": "45fe8390",
   "metadata": {},
   "outputs": [
    {
     "data": {
      "text/plain": [
       "18"
      ]
     },
     "execution_count": 1,
     "metadata": {},
     "output_type": "execute_result"
    }
   ],
   "source": [
    "num_list = [3, 7, 18, 12]\n",
    "max(num_list)"
   ]
  },
  {
   "cell_type": "code",
   "execution_count": 2,
   "id": "cf486343",
   "metadata": {},
   "outputs": [
    {
     "ename": "TypeError",
     "evalue": "max expected at least 1 argument, got 0",
     "output_type": "error",
     "traceback": [
      "\u001b[0;31m---------------------------------------------------------------------------\u001b[0m",
      "\u001b[0;31mTypeError\u001b[0m                                 Traceback (most recent call last)",
      "Input \u001b[0;32mIn [2]\u001b[0m, in \u001b[0;36m<cell line: 1>\u001b[0;34m()\u001b[0m\n\u001b[0;32m----> 1\u001b[0m \u001b[38;5;28;43mmax\u001b[39;49m\u001b[43m(\u001b[49m\u001b[43m)\u001b[49m\n",
      "\u001b[0;31mTypeError\u001b[0m: max expected at least 1 argument, got 0"
     ]
    }
   ],
   "source": [
    "max()"
   ]
  },
  {
   "cell_type": "code",
   "execution_count": 10,
   "id": "c00c40ee",
   "metadata": {},
   "outputs": [],
   "source": [
    "def square_max(my_list):\n",
    "    print(max(my_list) ** 2)\n",
    "    \n",
    "    return max(my_list) ** 2"
   ]
  },
  {
   "cell_type": "code",
   "execution_count": 7,
   "id": "3e2fe80f",
   "metadata": {},
   "outputs": [
    {
     "name": "stdout",
     "output_type": "stream",
     "text": [
      "324\n"
     ]
    }
   ],
   "source": [
    "square_max(num_list)"
   ]
  },
  {
   "cell_type": "code",
   "execution_count": 8,
   "id": "d6577a80",
   "metadata": {},
   "outputs": [
    {
     "name": "stdout",
     "output_type": "stream",
     "text": [
      "324\n"
     ]
    }
   ],
   "source": [
    "my_number = square_max(num_list)"
   ]
  },
  {
   "cell_type": "code",
   "execution_count": 9,
   "id": "d7c5d634",
   "metadata": {},
   "outputs": [],
   "source": [
    "my_number"
   ]
  },
  {
   "cell_type": "code",
   "execution_count": 11,
   "id": "615ac711",
   "metadata": {},
   "outputs": [
    {
     "name": "stdout",
     "output_type": "stream",
     "text": [
      "324\n"
     ]
    }
   ],
   "source": [
    "my_number = square_max(num_list)"
   ]
  },
  {
   "cell_type": "code",
   "execution_count": 12,
   "id": "942501fb",
   "metadata": {},
   "outputs": [
    {
     "data": {
      "text/plain": [
       "324"
      ]
     },
     "execution_count": 12,
     "metadata": {},
     "output_type": "execute_result"
    }
   ],
   "source": [
    "my_number"
   ]
  },
  {
   "cell_type": "code",
   "execution_count": 20,
   "id": "481fe5cb",
   "metadata": {},
   "outputs": [],
   "source": [
    "def cube_max(my_list):\n",
    "    print(max(my_list) ** 3)\n",
    "    \n",
    "    return max(my_list) ** 3, 'cube'"
   ]
  },
  {
   "cell_type": "code",
   "execution_count": 22,
   "id": "25b80d26",
   "metadata": {},
   "outputs": [
    {
     "name": "stdout",
     "output_type": "stream",
     "text": [
      "5832\n"
     ]
    }
   ],
   "source": [
    "my_output = cube_max(num_list)"
   ]
  },
  {
   "cell_type": "code",
   "execution_count": 23,
   "id": "8a287c94",
   "metadata": {},
   "outputs": [
    {
     "data": {
      "text/plain": [
       "(5832, 'cube')"
      ]
     },
     "execution_count": 23,
     "metadata": {},
     "output_type": "execute_result"
    }
   ],
   "source": [
    "my_output"
   ]
  },
  {
   "cell_type": "code",
   "execution_count": 15,
   "id": "bcf2196c",
   "metadata": {},
   "outputs": [
    {
     "name": "stdout",
     "output_type": "stream",
     "text": [
      "5832\n"
     ]
    },
    {
     "data": {
      "text/plain": [
       "5832"
      ]
     },
     "execution_count": 15,
     "metadata": {},
     "output_type": "execute_result"
    }
   ],
   "source": [
    "cube_max(num_list)"
   ]
  },
  {
   "cell_type": "code",
   "execution_count": 24,
   "id": "c4cc0620",
   "metadata": {},
   "outputs": [
    {
     "name": "stdout",
     "output_type": "stream",
     "text": [
      "5832\n"
     ]
    }
   ],
   "source": [
    "number, word = cube_max(num_list)"
   ]
  },
  {
   "cell_type": "code",
   "execution_count": 25,
   "id": "631b96d7",
   "metadata": {},
   "outputs": [
    {
     "data": {
      "text/plain": [
       "'cube'"
      ]
     },
     "execution_count": 25,
     "metadata": {},
     "output_type": "execute_result"
    }
   ],
   "source": [
    "word"
   ]
  },
  {
   "cell_type": "code",
   "execution_count": 18,
   "id": "35f7c561",
   "metadata": {},
   "outputs": [
    {
     "name": "stdout",
     "output_type": "stream",
     "text": [
      "5832\n"
     ]
    }
   ],
   "source": [
    "my_cubed_number = cube_max(num_list)"
   ]
  },
  {
   "cell_type": "code",
   "execution_count": 21,
   "id": "3f40e9ba",
   "metadata": {},
   "outputs": [
    {
     "data": {
      "text/plain": [
       "5832"
      ]
     },
     "execution_count": 21,
     "metadata": {},
     "output_type": "execute_result"
    }
   ],
   "source": [
    "my_cubed_number"
   ]
  },
  {
   "cell_type": "code",
   "execution_count": null,
   "id": "0fa96a84",
   "metadata": {},
   "outputs": [],
   "source": []
  }
 ],
 "metadata": {
  "kernelspec": {
   "display_name": "Python 3 (ipykernel)",
   "language": "python",
   "name": "python3"
  },
  "language_info": {
   "codemirror_mode": {
    "name": "ipython",
    "version": 3
   },
   "file_extension": ".py",
   "mimetype": "text/x-python",
   "name": "python",
   "nbconvert_exporter": "python",
   "pygments_lexer": "ipython3",
   "version": "3.9.13"
  }
 },
 "nbformat": 4,
 "nbformat_minor": 5
}
