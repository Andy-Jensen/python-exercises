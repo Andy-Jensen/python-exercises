{
 "cells": [
  {
   "cell_type": "markdown",
   "id": "09bebeae",
   "metadata": {},
   "source": [
    "# Data Types, Operators, and Variables Exercises"
   ]
  },
  {
   "cell_type": "code",
   "execution_count": null,
   "id": "57fbb926",
   "metadata": {},
   "outputs": [],
   "source": [
    "#What are these data types?"
   ]
  },
  {
   "cell_type": "code",
   "execution_count": 1,
   "id": "4edeb8d7",
   "metadata": {},
   "outputs": [
    {
     "data": {
      "text/plain": [
       "float"
      ]
     },
     "execution_count": 1,
     "metadata": {},
     "output_type": "execute_result"
    }
   ],
   "source": [
    "type(99.9)"
   ]
  },
  {
   "cell_type": "code",
   "execution_count": 2,
   "id": "dc69de2b",
   "metadata": {},
   "outputs": [
    {
     "data": {
      "text/plain": [
       "str"
      ]
     },
     "execution_count": 2,
     "metadata": {},
     "output_type": "execute_result"
    }
   ],
   "source": [
    "type(\"False\")"
   ]
  },
  {
   "cell_type": "code",
   "execution_count": 3,
   "id": "0b002177",
   "metadata": {},
   "outputs": [
    {
     "data": {
      "text/plain": [
       "bool"
      ]
     },
     "execution_count": 3,
     "metadata": {},
     "output_type": "execute_result"
    }
   ],
   "source": [
    "type(False)"
   ]
  },
  {
   "cell_type": "code",
   "execution_count": 4,
   "id": "59821266",
   "metadata": {},
   "outputs": [
    {
     "data": {
      "text/plain": [
       "str"
      ]
     },
     "execution_count": 4,
     "metadata": {},
     "output_type": "execute_result"
    }
   ],
   "source": [
    "type('0')"
   ]
  },
  {
   "cell_type": "code",
   "execution_count": 5,
   "id": "86c5d773",
   "metadata": {},
   "outputs": [
    {
     "data": {
      "text/plain": [
       "int"
      ]
     },
     "execution_count": 5,
     "metadata": {},
     "output_type": "execute_result"
    }
   ],
   "source": [
    "type(0)"
   ]
  },
  {
   "cell_type": "code",
   "execution_count": 6,
   "id": "bcb8daa0",
   "metadata": {},
   "outputs": [
    {
     "data": {
      "text/plain": [
       "bool"
      ]
     },
     "execution_count": 6,
     "metadata": {},
     "output_type": "execute_result"
    }
   ],
   "source": [
    "type(True)"
   ]
  },
  {
   "cell_type": "code",
   "execution_count": 7,
   "id": "7091cc05",
   "metadata": {},
   "outputs": [
    {
     "data": {
      "text/plain": [
       "str"
      ]
     },
     "execution_count": 7,
     "metadata": {},
     "output_type": "execute_result"
    }
   ],
   "source": [
    "type('True')"
   ]
  },
  {
   "cell_type": "code",
   "execution_count": 8,
   "id": "b704d07e",
   "metadata": {},
   "outputs": [
    {
     "data": {
      "text/plain": [
       "list"
      ]
     },
     "execution_count": 8,
     "metadata": {},
     "output_type": "execute_result"
    }
   ],
   "source": [
    "type([{}])"
   ]
  },
  {
   "cell_type": "code",
   "execution_count": 9,
   "id": "0eef8e88",
   "metadata": {},
   "outputs": [
    {
     "data": {
      "text/plain": [
       "dict"
      ]
     },
     "execution_count": 9,
     "metadata": {},
     "output_type": "execute_result"
    }
   ],
   "source": [
    "type({'a': []})"
   ]
  },
  {
   "cell_type": "code",
   "execution_count": 2,
   "id": "f11ef1ed",
   "metadata": {},
   "outputs": [
    {
     "name": "stdout",
     "output_type": "stream",
     "text": [
      "<class 'str'>\n",
      "<class 'bool'>\n",
      "<class 'int'>\n",
      "<class 'bool'>\n",
      "<class 'str'>\n",
      "<class 'float'>\n",
      "<class 'int'>\n",
      "<class 'list'>\n",
      "<class 'dict'>\n"
     ]
    }
   ],
   "source": [
    "#What data type would best represent:\n",
    "\n",
    "#A term or phrase typed into a search box?\n",
    "print(type('string'))\n",
    "\n",
    "#If a user is logged in?\n",
    "print(type(True))\n",
    "\n",
    "#A discount amount to apply to a user's shopping cart?\n",
    "print(type(20))\n",
    "\n",
    "#Whether or not a coupon code is valid?\n",
    "print(type(False))\n",
    "\n",
    "#An email address typed into a registration form?\n",
    "print(type('example@email.com'))\n",
    "\n",
    "#The price of a product?\n",
    "print(type(20.99))\n",
    "\n",
    "#A Matrix?\n",
    "print(type(1))\n",
    "\n",
    "#The email addresses collected from a registration form?\n",
    "print(type(['example@email.com', 'example2@email.com']))\n",
    "\n",
    "#Information about applicants to Codeup's data science program?\n",
    "print(type({'andy': ['email', 'phone', 'payment']}))"
   ]
  },
  {
   "cell_type": "code",
   "execution_count": null,
   "id": "d0cb4184",
   "metadata": {},
   "outputs": [],
   "source": [
    "#For each of the following code blocks, read the expression and predict what the result of evaluating it would be, then execute the expression in your Python REPL"
   ]
  },
  {
   "cell_type": "code",
   "execution_count": 4,
   "id": "c1cdf4d9",
   "metadata": {},
   "outputs": [
    {
     "ename": "TypeError",
     "evalue": "can only concatenate str (not \"int\") to str",
     "output_type": "error",
     "traceback": [
      "\u001b[0;31m---------------------------------------------------------------------------\u001b[0m",
      "\u001b[0;31mTypeError\u001b[0m                                 Traceback (most recent call last)",
      "Input \u001b[0;32mIn [4]\u001b[0m, in \u001b[0;36m<cell line: 2>\u001b[0;34m()\u001b[0m\n\u001b[1;32m      1\u001b[0m \u001b[38;5;66;03m#12\u001b[39;00m\n\u001b[0;32m----> 2\u001b[0m \u001b[38;5;28mprint\u001b[39m(\u001b[38;5;124;43m'\u001b[39;49m\u001b[38;5;124;43m1\u001b[39;49m\u001b[38;5;124;43m'\u001b[39;49m\u001b[43m \u001b[49m\u001b[38;5;241;43m+\u001b[39;49m\u001b[43m \u001b[49m\u001b[38;5;241;43m2\u001b[39;49m)\n",
      "\u001b[0;31mTypeError\u001b[0m: can only concatenate str (not \"int\") to str"
     ]
    }
   ],
   "source": [
    "#12\n",
    "'1' + 2\n",
    "#Gave an error"
   ]
  },
  {
   "cell_type": "code",
   "execution_count": 5,
   "id": "9e5b5e7d",
   "metadata": {},
   "outputs": [
    {
     "data": {
      "text/plain": [
       "2"
      ]
     },
     "execution_count": 5,
     "metadata": {},
     "output_type": "execute_result"
    }
   ],
   "source": [
    "#2\n",
    "6 % 4\n",
    "#Correct"
   ]
  },
  {
   "cell_type": "code",
   "execution_count": 6,
   "id": "3cc8a0d3",
   "metadata": {},
   "outputs": [
    {
     "data": {
      "text/plain": [
       "int"
      ]
     },
     "execution_count": 6,
     "metadata": {},
     "output_type": "execute_result"
    }
   ],
   "source": [
    "#int\n",
    "type(6 % 4)\n",
    "#Correct"
   ]
  },
  {
   "cell_type": "code",
   "execution_count": 7,
   "id": "0bac55a8",
   "metadata": {},
   "outputs": [
    {
     "data": {
      "text/plain": [
       "type"
      ]
     },
     "execution_count": 7,
     "metadata": {},
     "output_type": "execute_result"
    }
   ],
   "source": [
    "#error\n",
    "type(type(6 % 4))\n",
    "#displayed \"type\""
   ]
  },
  {
   "cell_type": "code",
   "execution_count": 8,
   "id": "d6f32c1e",
   "metadata": {},
   "outputs": [
    {
     "ename": "TypeError",
     "evalue": "can only concatenate str (not \"int\") to str",
     "output_type": "error",
     "traceback": [
      "\u001b[0;31m---------------------------------------------------------------------------\u001b[0m",
      "\u001b[0;31mTypeError\u001b[0m                                 Traceback (most recent call last)",
      "Input \u001b[0;32mIn [8]\u001b[0m, in \u001b[0;36m<cell line: 2>\u001b[0;34m()\u001b[0m\n\u001b[1;32m      1\u001b[0m \u001b[38;5;66;03m#3 + 4 is 7 or error\u001b[39;00m\n\u001b[0;32m----> 2\u001b[0m \u001b[38;5;124;43m'\u001b[39;49m\u001b[38;5;124;43m3 + 4 is \u001b[39;49m\u001b[38;5;124;43m'\u001b[39;49m\u001b[43m \u001b[49m\u001b[38;5;241;43m+\u001b[39;49m\u001b[43m \u001b[49m\u001b[38;5;241;43m3\u001b[39;49m \u001b[38;5;241m+\u001b[39m \u001b[38;5;241m4\u001b[39m\n",
      "\u001b[0;31mTypeError\u001b[0m: can only concatenate str (not \"int\") to str"
     ]
    }
   ],
   "source": [
    "#3 + 4 is 7 or error\n",
    "'3 + 4 is ' + 3 + 4\n",
    "#Half correct"
   ]
  },
  {
   "cell_type": "code",
   "execution_count": 9,
   "id": "e3bd1b77",
   "metadata": {},
   "outputs": [
    {
     "data": {
      "text/plain": [
       "False"
      ]
     },
     "execution_count": 9,
     "metadata": {},
     "output_type": "execute_result"
    }
   ],
   "source": [
    "#False\n",
    "0 < 0\n",
    "#Correct"
   ]
  },
  {
   "cell_type": "code",
   "execution_count": 10,
   "id": "d159ca71",
   "metadata": {},
   "outputs": [
    {
     "data": {
      "text/plain": [
       "False"
      ]
     },
     "execution_count": 10,
     "metadata": {},
     "output_type": "execute_result"
    }
   ],
   "source": [
    "#False\n",
    "'False' == False\n",
    "#Correct"
   ]
  },
  {
   "cell_type": "code",
   "execution_count": 11,
   "id": "ef370cd5",
   "metadata": {},
   "outputs": [
    {
     "data": {
      "text/plain": [
       "False"
      ]
     },
     "execution_count": 11,
     "metadata": {},
     "output_type": "execute_result"
    }
   ],
   "source": [
    "#False\n",
    "True == 'True'\n",
    "#Correct"
   ]
  },
  {
   "cell_type": "code",
   "execution_count": 12,
   "id": "f427ff7f",
   "metadata": {},
   "outputs": [
    {
     "data": {
      "text/plain": [
       "True"
      ]
     },
     "execution_count": 12,
     "metadata": {},
     "output_type": "execute_result"
    }
   ],
   "source": [
    "#True\n",
    "5 >= -5\n",
    "#Correct"
   ]
  },
  {
   "cell_type": "code",
   "execution_count": 13,
   "id": "01730f12",
   "metadata": {},
   "outputs": [
    {
     "data": {
      "text/plain": [
       "True"
      ]
     },
     "execution_count": 13,
     "metadata": {},
     "output_type": "execute_result"
    }
   ],
   "source": [
    "#True\n",
    "True or \"42\"\n",
    "#Correct"
   ]
  },
  {
   "cell_type": "code",
   "execution_count": 14,
   "id": "5a47f928",
   "metadata": {},
   "outputs": [
    {
     "data": {
      "text/plain": [
       "1"
      ]
     },
     "execution_count": 14,
     "metadata": {},
     "output_type": "execute_result"
    }
   ],
   "source": [
    "#1\n",
    "6 % 5\n",
    "#Correct"
   ]
  },
  {
   "cell_type": "code",
   "execution_count": 15,
   "id": "341da971",
   "metadata": {},
   "outputs": [
    {
     "data": {
      "text/plain": [
       "False"
      ]
     },
     "execution_count": 15,
     "metadata": {},
     "output_type": "execute_result"
    }
   ],
   "source": [
    "#False\n",
    "5 < 4 and 1 == 1\n",
    "#Correct"
   ]
  },
  {
   "cell_type": "code",
   "execution_count": 16,
   "id": "53d296b6",
   "metadata": {},
   "outputs": [
    {
     "data": {
      "text/plain": [
       "False"
      ]
     },
     "execution_count": 16,
     "metadata": {},
     "output_type": "execute_result"
    }
   ],
   "source": [
    "#False\n",
    "'codeup' == 'codeup' and 'codeup' == 'Codeup'\n",
    "#Correct"
   ]
  },
  {
   "cell_type": "code",
   "execution_count": 17,
   "id": "76025bc6",
   "metadata": {},
   "outputs": [
    {
     "ename": "SyntaxError",
     "evalue": "invalid syntax (997116806.py, line 2)",
     "output_type": "error",
     "traceback": [
      "\u001b[0;36m  Input \u001b[0;32mIn [17]\u001b[0;36m\u001b[0m\n\u001b[0;31m    4 >= 0 and 1 !== '1'\u001b[0m\n\u001b[0m                   ^\u001b[0m\n\u001b[0;31mSyntaxError\u001b[0m\u001b[0;31m:\u001b[0m invalid syntax\n"
     ]
    }
   ],
   "source": [
    "#True\n",
    "4 >= 0 and 1 !== '1'\n",
    "#gave an error. would be true if 1 != '1'"
   ]
  },
  {
   "cell_type": "code",
   "execution_count": 18,
   "id": "26d5f73c",
   "metadata": {},
   "outputs": [
    {
     "data": {
      "text/plain": [
       "True"
      ]
     },
     "execution_count": 18,
     "metadata": {},
     "output_type": "execute_result"
    }
   ],
   "source": [
    "#True\n",
    "6 % 3 == 0\n",
    "#Correct"
   ]
  },
  {
   "cell_type": "code",
   "execution_count": 21,
   "id": "909ec7c2",
   "metadata": {},
   "outputs": [
    {
     "data": {
      "text/plain": [
       "True"
      ]
     },
     "execution_count": 21,
     "metadata": {},
     "output_type": "execute_result"
    }
   ],
   "source": [
    "#True\n",
    "5 % 2 != 0\n",
    "#Correct"
   ]
  },
  {
   "cell_type": "code",
   "execution_count": 22,
   "id": "9b88ed65",
   "metadata": {},
   "outputs": [
    {
     "ename": "TypeError",
     "evalue": "can only concatenate list (not \"int\") to list",
     "output_type": "error",
     "traceback": [
      "\u001b[0;31m---------------------------------------------------------------------------\u001b[0m",
      "\u001b[0;31mTypeError\u001b[0m                                 Traceback (most recent call last)",
      "Input \u001b[0;32mIn [22]\u001b[0m, in \u001b[0;36m<cell line: 2>\u001b[0;34m()\u001b[0m\n\u001b[1;32m      1\u001b[0m \u001b[38;5;66;03m#Error\u001b[39;00m\n\u001b[0;32m----> 2\u001b[0m \u001b[43m[\u001b[49m\u001b[38;5;241;43m1\u001b[39;49m\u001b[43m]\u001b[49m\u001b[43m \u001b[49m\u001b[38;5;241;43m+\u001b[39;49m\u001b[43m \u001b[49m\u001b[38;5;241;43m2\u001b[39;49m\n",
      "\u001b[0;31mTypeError\u001b[0m: can only concatenate list (not \"int\") to list"
     ]
    }
   ],
   "source": [
    "#Error\n",
    "[1] + 2\n",
    "#Corect"
   ]
  },
  {
   "cell_type": "code",
   "execution_count": 23,
   "id": "3185ab85",
   "metadata": {},
   "outputs": [
    {
     "data": {
      "text/plain": [
       "[1, 2]"
      ]
     },
     "execution_count": 23,
     "metadata": {},
     "output_type": "execute_result"
    }
   ],
   "source": [
    "#12\n",
    "[1] + [2]\n",
    "#Made a list [1, 2]"
   ]
  },
  {
   "cell_type": "code",
   "execution_count": 24,
   "id": "ef9bb7db",
   "metadata": {},
   "outputs": [
    {
     "data": {
      "text/plain": [
       "[1, 1]"
      ]
     },
     "execution_count": 24,
     "metadata": {},
     "output_type": "execute_result"
    }
   ],
   "source": [
    "#[1, 1]\n",
    "[1] * 2\n",
    "#Correct"
   ]
  },
  {
   "cell_type": "code",
   "execution_count": 25,
   "id": "2783e155",
   "metadata": {},
   "outputs": [
    {
     "ename": "TypeError",
     "evalue": "can't multiply sequence by non-int of type 'list'",
     "output_type": "error",
     "traceback": [
      "\u001b[0;31m---------------------------------------------------------------------------\u001b[0m",
      "\u001b[0;31mTypeError\u001b[0m                                 Traceback (most recent call last)",
      "Input \u001b[0;32mIn [25]\u001b[0m, in \u001b[0;36m<cell line: 2>\u001b[0;34m()\u001b[0m\n\u001b[1;32m      1\u001b[0m \u001b[38;5;66;03m#[1, 1]\u001b[39;00m\n\u001b[0;32m----> 2\u001b[0m \u001b[43m[\u001b[49m\u001b[38;5;241;43m1\u001b[39;49m\u001b[43m]\u001b[49m\u001b[43m \u001b[49m\u001b[38;5;241;43m*\u001b[39;49m\u001b[43m \u001b[49m\u001b[43m[\u001b[49m\u001b[38;5;241;43m2\u001b[39;49m\u001b[43m]\u001b[49m\n",
      "\u001b[0;31mTypeError\u001b[0m: can't multiply sequence by non-int of type 'list'"
     ]
    }
   ],
   "source": [
    "#[1, 1]\n",
    "[1] * [2]\n",
    "#Gave an error"
   ]
  },
  {
   "cell_type": "code",
   "execution_count": 26,
   "id": "338cc0d9",
   "metadata": {},
   "outputs": [
    {
     "data": {
      "text/plain": [
       "True"
      ]
     },
     "execution_count": 26,
     "metadata": {},
     "output_type": "execute_result"
    }
   ],
   "source": [
    "#False\n",
    "[] + [] == []\n",
    "#True"
   ]
  },
  {
   "cell_type": "code",
   "execution_count": 28,
   "id": "2f3cac87",
   "metadata": {},
   "outputs": [
    {
     "ename": "TypeError",
     "evalue": "unsupported operand type(s) for +: 'dict' and 'dict'",
     "output_type": "error",
     "traceback": [
      "\u001b[0;31m---------------------------------------------------------------------------\u001b[0m",
      "\u001b[0;31mTypeError\u001b[0m                                 Traceback (most recent call last)",
      "Input \u001b[0;32mIn [28]\u001b[0m, in \u001b[0;36m<cell line: 2>\u001b[0;34m()\u001b[0m\n\u001b[1;32m      1\u001b[0m \u001b[38;5;66;03m#Error\u001b[39;00m\n\u001b[0;32m----> 2\u001b[0m \u001b[43m{\u001b[49m\u001b[43m}\u001b[49m\u001b[43m \u001b[49m\u001b[38;5;241;43m+\u001b[39;49m\u001b[43m \u001b[49m\u001b[43m{\u001b[49m\u001b[43m}\u001b[49m\n",
      "\u001b[0;31mTypeError\u001b[0m: unsupported operand type(s) for +: 'dict' and 'dict'"
     ]
    }
   ],
   "source": [
    "#Error\n",
    "{} + {}\n",
    "#Correct"
   ]
  },
  {
   "cell_type": "code",
   "execution_count": 30,
   "id": "227a1423",
   "metadata": {},
   "outputs": [
    {
     "data": {
      "text/plain": [
       "27"
      ]
     },
     "execution_count": 30,
     "metadata": {},
     "output_type": "execute_result"
    }
   ],
   "source": [
    "#You have rented some movies for your kids: The little mermaid (for 3 days), \n",
    "#Brother Bear (for 5 days, they love it), and Hercules (1 day, you don't know yet if they're going to like it). \n",
    "#If price for a movie per day is 3 dollars, how much will you have to pay?\n",
    "tlm = 3\n",
    "BB = 5\n",
    "H = 1\n",
    "\n",
    "(tlm * 3) + (BB * 3) + (H * 3)"
   ]
  },
  {
   "cell_type": "code",
   "execution_count": 33,
   "id": "87b14b02",
   "metadata": {},
   "outputs": [
    {
     "data": {
      "text/plain": [
       "7420"
      ]
     },
     "execution_count": 33,
     "metadata": {},
     "output_type": "execute_result"
    }
   ],
   "source": [
    "#Suppose you're working as a contractor for 3 companies: Google, Amazon and Facebook,\n",
    "#they pay you a different rate per hour. Google pays 400 dollars per hour, Amazon 380, and Facebook 350. \n",
    "#How much will you receive in payment for this week? \n",
    "#You worked 10 hours for Facebook, 6 hours for Google and 4 hours for Amazon.\n",
    "\n",
    "Gpay = 400\n",
    "Apay = 380\n",
    "Fpay = 350\n",
    "\n",
    "Ghours = 6\n",
    "Ahours = 4\n",
    "Fhours = 10\n",
    "\n",
    "the_big_bucks = (Gpay * Ghours) + (Apay * Ahours) + (Fpay * Fhours)\n",
    "the_big_bucks"
   ]
  },
  {
   "cell_type": "code",
   "execution_count": 35,
   "id": "d389cc8c",
   "metadata": {},
   "outputs": [
    {
     "data": {
      "text/plain": [
       "True"
      ]
     },
     "execution_count": 35,
     "metadata": {},
     "output_type": "execute_result"
    }
   ],
   "source": [
    "#A student can be enrolled to a class only if the class is \n",
    "#not full and the class schedule does not conflict with her current schedule.\n",
    "student = True\n",
    "class_not_full = True\n",
    "no_conflict = True\n",
    "\n",
    "class_not_full == no_conflict == student"
   ]
  },
  {
   "cell_type": "code",
   "execution_count": 57,
   "id": "0f0c89a2",
   "metadata": {},
   "outputs": [
    {
     "name": "stdout",
     "output_type": "stream",
     "text": [
      "80.0\n"
     ]
    }
   ],
   "source": [
    "#A product offer can be applied only if people buys more than 2 items, and the offer has not expired. \n",
    "#Premium members do not need to buy a specific amount of products.\n",
    "\n",
    "items = 2\n",
    "offer_expired = False\n",
    "customer_status = 'regular'\n",
    "offer = 20\n",
    "total_price = 100\n",
    "\n",
    "if items >= 2 and offer_expired == False:\n",
    "    print(total_price - (total_price * (offer / 100)))\n",
    "elif customer_status == 'premium' and offer_expired == False:\n",
    "    print(total_price - (total_price * (offer / 100)))\n",
    "else:\n",
    "    print('Not eligable for offer.')"
   ]
  },
  {
   "cell_type": "code",
   "execution_count": 70,
   "id": "4d101bb9",
   "metadata": {},
   "outputs": [
    {
     "name": "stdout",
     "output_type": "stream",
     "text": [
      "True\n",
      "True\n",
      "True\n",
      "True\n"
     ]
    }
   ],
   "source": [
    "#Create a variable that holds a boolean value for each of the following conditions:\n",
    "\n",
    "#the password must be at least 5 characters\n",
    "#the username must be no more than 20 characters\n",
    "#the password must not be the same as the username\n",
    "#bonus neither the username or password can start or end with whitespace\n",
    "username = 'codeup'\n",
    "password = 'notastrongpassword'\n",
    "\n",
    "print(len(password) >= 5)\n",
    "print(len(username) <= 20)\n",
    "print(password != username)\n",
    "print(password[0] != ' ' and password[-1] != ' ' and username[-1] != ' ' and username[0] != ' ')"
   ]
  },
  {
   "cell_type": "code",
   "execution_count": null,
   "id": "a986841b",
   "metadata": {},
   "outputs": [],
   "source": []
  }
 ],
 "metadata": {
  "kernelspec": {
   "display_name": "Python 3 (ipykernel)",
   "language": "python",
   "name": "python3"
  },
  "language_info": {
   "codemirror_mode": {
    "name": "ipython",
    "version": 3
   },
   "file_extension": ".py",
   "mimetype": "text/x-python",
   "name": "python",
   "nbconvert_exporter": "python",
   "pygments_lexer": "ipython3",
   "version": "3.9.13"
  }
 },
 "nbformat": 4,
 "nbformat_minor": 5
}
