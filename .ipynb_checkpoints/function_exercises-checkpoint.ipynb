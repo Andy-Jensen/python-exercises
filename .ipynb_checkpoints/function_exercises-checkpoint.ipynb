{
 "cells": [
  {
   "cell_type": "code",
   "execution_count": 1,
   "id": "5bc8d1da",
   "metadata": {},
   "outputs": [
    {
     "data": {
      "text/plain": [
       "False"
      ]
     },
     "execution_count": 1,
     "metadata": {},
     "output_type": "execute_result"
    }
   ],
   "source": [
    "#Define a function named is_two. It should accept one input and return True \n",
    "#if the passed input is either the number or the string 2, False otherwise.\n",
    "def is_two(x):\n",
    "    if x == 2 or x == '2':\n",
    "        return True\n",
    "    else:\n",
    "        return False\n",
    "is_two(23)"
   ]
  },
  {
   "cell_type": "code",
   "execution_count": 71,
   "id": "3f6faa16",
   "metadata": {},
   "outputs": [
    {
     "data": {
      "text/plain": [
       "True"
      ]
     },
     "execution_count": 71,
     "metadata": {},
     "output_type": "execute_result"
    }
   ],
   "source": [
    "#Define a function named is_vowel. \n",
    "#It should return True if the passed string is a vowel, False otherwise.\n",
    "def is_vowel(z):\n",
    "    if z.lower() in ['a', 'e', 'i', 'o', 'u']:\n",
    "        return True\n",
    "    else:\n",
    "        return False\n",
    "is_vowel('a')\n",
    "#is_vowel('z')"
   ]
  },
  {
   "cell_type": "code",
   "execution_count": 72,
   "id": "b5735260",
   "metadata": {},
   "outputs": [
    {
     "data": {
      "text/plain": [
       "True"
      ]
     },
     "execution_count": 72,
     "metadata": {},
     "output_type": "execute_result"
    }
   ],
   "source": [
    "#Define a function named is_consonant. It should return True if the \n",
    "#passed string is a consonant, False otherwise. \n",
    "#Use your is_vowel function to accomplish this.\n",
    "def is_consonant(z):\n",
    "    if z.lower() not in ['a', 'e', 'i', 'o', 'u']:\n",
    "        return True\n",
    "    else:\n",
    "        return False\n",
    "#is_consonant('a')\n",
    "is_consonant('z')"
   ]
  },
  {
   "cell_type": "code",
   "execution_count": 4,
   "id": "3dc47942",
   "metadata": {},
   "outputs": [
    {
     "data": {
      "text/plain": [
       "'Zebra'"
      ]
     },
     "execution_count": 4,
     "metadata": {},
     "output_type": "execute_result"
    }
   ],
   "source": [
    "#Define a function that accepts a string that is a word. \n",
    "#The function should capitalize the first letter of the word if the word starts with a consonant.\n",
    "def is_word(z):\n",
    "    if type(z) == type('string') and len(z) > 1:\n",
    "        return z.title()\n",
    "    else:\n",
    "        return 'Not a word'\n",
    "is_word('Zebra')"
   ]
  },
  {
   "cell_type": "code",
   "execution_count": 5,
   "id": "9f5c088e",
   "metadata": {},
   "outputs": [
    {
     "data": {
      "text/plain": [
       "12.0"
      ]
     },
     "execution_count": 5,
     "metadata": {},
     "output_type": "execute_result"
    }
   ],
   "source": [
    "#Define a function named calculate_tip. It should accept a tip percentage \n",
    "#(a number between 0 and 1) and the bill total, and return the amount to tip.\n",
    "def calculate_tip(tip, bill):\n",
    "    #tip = (int(input('Tip Percent: '))) / 100\n",
    "    #bill = int(input('Total Bill: '))\n",
    "    return (bill * tip) + bill\n",
    "\n",
    "calculate_tip(.20, 10)"
   ]
  },
  {
   "cell_type": "code",
   "execution_count": 73,
   "id": "7e3a9596",
   "metadata": {},
   "outputs": [
    {
     "name": "stdout",
     "output_type": "stream",
     "text": [
      "Tip Percent: 50\n",
      "Total Bill: 100\n",
      "Your tip should be : 50.0\n"
     ]
    },
    {
     "data": {
      "text/plain": [
       "150.0"
      ]
     },
     "execution_count": 73,
     "metadata": {},
     "output_type": "execute_result"
    }
   ],
   "source": [
    "def calculate_tip():\n",
    "    tip = (int(input('Tip Percent: '))) / 100\n",
    "    bill = int(input('Total Bill: '))\n",
    "    should_tip = (bill * tip)\n",
    "    print(f'Your tip should be : {should_tip}')\n",
    "    return should_tip + bill\n",
    "calculate_tip()\n"
   ]
  },
  {
   "cell_type": "code",
   "execution_count": 4,
   "id": "10db31d1",
   "metadata": {},
   "outputs": [
    {
     "name": "stdout",
     "output_type": "stream",
     "text": [
      "Price of item: 10.00\n",
      "Discount percent: 20\n"
     ]
    },
    {
     "data": {
      "text/plain": [
       "8.0"
      ]
     },
     "execution_count": 4,
     "metadata": {},
     "output_type": "execute_result"
    }
   ],
   "source": [
    "#Define a function named apply_discount. It should accept a original price, \n",
    "#and a discount percentage, and return the price after the discount is applied.\n",
    "\n",
    "def apply_discount():\n",
    "    original = float(input('Price of item: '))\n",
    "    discount = (float(input('Discount percent: '))) / 100\n",
    "    return original - (original * discount)\n",
    "apply_discount()"
   ]
  },
  {
   "cell_type": "code",
   "execution_count": 6,
   "id": "f906e821",
   "metadata": {},
   "outputs": [
    {
     "name": "stdout",
     "output_type": "stream",
     "text": [
      "Any number with commas -> 1,000,000\n"
     ]
    },
    {
     "data": {
      "text/plain": [
       "'1000000'"
      ]
     },
     "execution_count": 6,
     "metadata": {},
     "output_type": "execute_result"
    }
   ],
   "source": [
    "#Define a function named handle_commas. \n",
    "#It should accept a string that is a number that contains commas in it as input, \n",
    "#and return a number as output.\n",
    "\n",
    "def handle_commas():\n",
    "    num_com = input('Any number with commas -> ').replace(\",\", \"\")\n",
    "    return num_com\n",
    "handle_commas()"
   ]
  },
  {
   "cell_type": "code",
   "execution_count": 16,
   "id": "ab275ca3",
   "metadata": {},
   "outputs": [
    {
     "name": "stdout",
     "output_type": "stream",
     "text": [
      "Put number grade here: 120\n",
      "You're not that smart!\n",
      "Put number grade here: 100\n"
     ]
    },
    {
     "data": {
      "text/plain": [
       "'A'"
      ]
     },
     "execution_count": 16,
     "metadata": {},
     "output_type": "execute_result"
    }
   ],
   "source": [
    "#Define a function named get_letter_grade. \n",
    "#It should accept a number and return the letter grade associated with that number (A-F).\n",
    "\n",
    "def get_letter_grade():\n",
    "    num_grade = int(input('Put number grade here: '))\n",
    "    if 100 >= num_grade >= 90:\n",
    "        return 'A'\n",
    "    elif 90 > num_grade >= 80:\n",
    "        return 'B'\n",
    "    elif 80 > num_grade >= 70:\n",
    "        return 'C'\n",
    "    elif 70 > num_grade >= 60:\n",
    "        return 'D'\n",
    "    elif num_grade < 60:\n",
    "        return 'F'\n",
    "    else:\n",
    "        print('You\\'re not that smart!')\n",
    "        return get_letter_grade()\n",
    "get_letter_grade()"
   ]
  },
  {
   "cell_type": "code",
   "execution_count": 75,
   "id": "d2253717",
   "metadata": {},
   "outputs": [
    {
     "name": "stdout",
     "output_type": "stream",
     "text": [
      "Zbr\n"
     ]
    }
   ],
   "source": [
    "def remove_vowels(string):\n",
    "    for x in string.lower():\n",
    "        if x in vowels:\n",
    "            string = string.replace(x, \"\")\n",
    "    print(string)\n",
    "remove_vowels('Zebra')\n",
    "    "
   ]
  },
  {
   "cell_type": "code",
   "execution_count": 29,
   "id": "59c84b99",
   "metadata": {},
   "outputs": [],
   "source": [
    "vowels = ['A', 'E', 'I', 'O', 'U', 'a', 'e', 'i', 'o', 'u']"
   ]
  },
  {
   "cell_type": "code",
   "execution_count": 78,
   "id": "303c7323",
   "metadata": {},
   "outputs": [
    {
     "data": {
      "text/plain": [
       "'andy_j'"
      ]
     },
     "execution_count": 78,
     "metadata": {},
     "output_type": "execute_result"
    }
   ],
   "source": [
    "#Define a function named normalize_name. It should accept a string and return a valid python identifier, \n",
    "#that is:\n",
    "#anything that is not a valid python identifier should be removed\n",
    "#leading and trailing whitespace should be removed\n",
    "#everything should be lowercase\n",
    "#spaces should be replaced with underscores\n",
    "#for example:\n",
    "#Name will become name\n",
    "#First Name will become first_name\n",
    "#% Completed will become completed\n",
    "\n",
    "def normalize_name(name):\n",
    "    name = name.replace(\"$\", \"\")\n",
    "    name = name.replace(\"%\", \"\")\n",
    "    name = name.replace(\"!\", \"\")\n",
    "    name = name.replace(\"?\", \"\")\n",
    "    name = name.replace(\" \", \"_\")\n",
    "    name = name.lower()\n",
    "    return(name)\n",
    "normalize_name('A!n?dy J?')"
   ]
  },
  {
   "cell_type": "code",
   "execution_count": 79,
   "id": "3fd33a2f",
   "metadata": {},
   "outputs": [
    {
     "data": {
      "text/plain": [
       "[1, 3, 6, 10, 15, 20]"
      ]
     },
     "execution_count": 79,
     "metadata": {},
     "output_type": "execute_result"
    }
   ],
   "source": [
    "#Write a function named cumulative_sum that accepts a list of numbers \n",
    "#and returns a list that is the cumulative sum of the numbers in the list.\n",
    "#cumulative_sum([1, 1, 1]) returns [1, 2, 3]\n",
    "#cumulative_sum([1, 2, 3, 4]) returns [1, 3, 6, 10]\n",
    "\n",
    "def cumulative_sum(nums):\n",
    "    output = []\n",
    "    total = 0\n",
    "    for num in nums:\n",
    "        total += num\n",
    "        output.append(total)\n",
    "    return output\n",
    "cumulative_sum([1, 2, 3, 4, 5, 5])"
   ]
  },
  {
   "cell_type": "code",
   "execution_count": null,
   "id": "fbb451c5",
   "metadata": {},
   "outputs": [],
   "source": []
  }
 ],
 "metadata": {
  "kernelspec": {
   "display_name": "Python 3 (ipykernel)",
   "language": "python",
   "name": "python3"
  },
  "language_info": {
   "codemirror_mode": {
    "name": "ipython",
    "version": 3
   },
   "file_extension": ".py",
   "mimetype": "text/x-python",
   "name": "python",
   "nbconvert_exporter": "python",
   "pygments_lexer": "ipython3",
   "version": "3.9.13"
  }
 },
 "nbformat": 4,
 "nbformat_minor": 5
}
