{
 "cells": [
  {
   "cell_type": "code",
   "execution_count": 4,
   "id": "db7e7355",
   "metadata": {},
   "outputs": [
    {
     "data": {
      "text/plain": [
       "True"
      ]
     },
     "execution_count": 4,
     "metadata": {},
     "output_type": "execute_result"
    }
   ],
   "source": [
    "#Import and test 3 of the functions from your functions exercise file. Import each function in a different way:\n",
    "\n",
    "#Run an interactive python session and import the module. \n",
    "#Call the is_vowel function using the . syntax.\n",
    "import function_exercise as fe\n",
    "\n",
    "fe.is_vowel('a')"
   ]
  },
  {
   "cell_type": "code",
   "execution_count": 3,
   "id": "a5191e93",
   "metadata": {},
   "outputs": [
    {
     "name": "stdout",
     "output_type": "stream",
     "text": [
      "Tip Percent: 25\n",
      "Total Bill: 100\n",
      "Your tip should be : 25.0\n"
     ]
    },
    {
     "data": {
      "text/plain": [
       "125.0"
      ]
     },
     "execution_count": 3,
     "metadata": {},
     "output_type": "execute_result"
    }
   ],
   "source": [
    "#Create a file named import_exericses.py. \n",
    "#Within this file, use from to import the calculate_tip function directly.\n",
    "#Call this function with values you choose and print the result.\n",
    "from function_exercise import calculate_tip\n",
    "\n",
    "calculate_tip()"
   ]
  },
  {
   "cell_type": "code",
   "execution_count": 1,
   "id": "3d217e3a",
   "metadata": {},
   "outputs": [
    {
     "name": "stdout",
     "output_type": "stream",
     "text": [
      "Put number grade here: 70\n"
     ]
    },
    {
     "data": {
      "text/plain": [
       "'C'"
      ]
     },
     "execution_count": 1,
     "metadata": {},
     "output_type": "execute_result"
    }
   ],
   "source": [
    "#Create a jupyter notebook named import_exercises.ipynb. \n",
    "#Use from to import the get_letter_grade function and give it an alias. Test this function in your notebook.\n",
    "#Make sure your code that tests the function imports is run from the same \n",
    "#directory that your functions exercise file is in.\n",
    "\n",
    "from function_exercise import get_letter_grade as lfg\n",
    "\n",
    "lfg()"
   ]
  },
  {
   "cell_type": "code",
   "execution_count": 20,
   "id": "bbcc1970",
   "metadata": {},
   "outputs": [
    {
     "name": "stdout",
     "output_type": "stream",
     "text": [
      "20\n",
      "[('1', '2', '3'), ('1', '2', 'a'), ('1', '2', 'b'), ('1', '2', 'c'), ('1', '3', 'a'), ('1', '3', 'b'), ('1', '3', 'c'), ('1', 'a', 'b'), ('1', 'a', 'c'), ('1', 'b', 'c'), ('2', '3', 'a'), ('2', '3', 'b'), ('2', '3', 'c'), ('2', 'a', 'b'), ('2', 'a', 'c'), ('2', 'b', 'c'), ('3', 'a', 'b'), ('3', 'a', 'c'), ('3', 'b', 'c'), ('a', 'b', 'c')]\n"
     ]
    }
   ],
   "source": [
    "#How many different ways can you combine the letters from \"abc\" with the numbers 1, 2, and 3?\n",
    "import itertools as it\n",
    "list_things = []\n",
    "#combos_let = it.combinations('abc', 2)\n",
    "combos_num = it.combinations('123abc', 3)\n",
    "list_things = [*combos_num]\n",
    "\n",
    "print(len(list_things))\n",
    "print(list_things)\n",
    "#print(*combos_let, *combos_num)"
   ]
  },
  {
   "cell_type": "code",
   "execution_count": null,
   "id": "c86ee54d",
   "metadata": {},
   "outputs": [],
   "source": []
  },
  {
   "cell_type": "code",
   "execution_count": null,
   "id": "a349e0a1",
   "metadata": {},
   "outputs": [],
   "source": []
  }
 ],
 "metadata": {
  "kernelspec": {
   "display_name": "Python 3 (ipykernel)",
   "language": "python",
   "name": "python3"
  },
  "language_info": {
   "codemirror_mode": {
    "name": "ipython",
    "version": 3
   },
   "file_extension": ".py",
   "mimetype": "text/x-python",
   "name": "python",
   "nbconvert_exporter": "python",
   "pygments_lexer": "ipython3",
   "version": "3.9.13"
  }
 },
 "nbformat": 4,
 "nbformat_minor": 5
}
